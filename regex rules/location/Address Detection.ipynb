{
 "cells": [
  {
   "cell_type": "code",
   "execution_count": null,
   "metadata": {},
   "outputs": [],
   "source": [
    "import pyap\n",
    "test_address = \"\"\"\n",
    "            Lorem ipsum\n",
    "            225 E. John Carpenter Freeway,\n",
    "            Suite 1500 Irving, Texas 75062\n",
    "            Dorem sit amet\n",
    "            \"\"\"\n",
    "addresses = pyap.parse(test_address, country='US')\n",
    "for address in addresses:\n",
    "    # shows found address\n",
    "    print(address)\n",
    "    # shows address parts\n",
    "    print(address.as_dict())"
   ]
  }
 ],
 "metadata": {
  "kernelspec": {
   "display_name": "Python 3",
   "language": "python",
   "name": "python3"
  },
  "language_info": {
   "codemirror_mode": {
    "name": "ipython",
    "version": 3
   },
   "file_extension": ".py",
   "mimetype": "text/x-python",
   "name": "python",
   "nbconvert_exporter": "python",
   "pygments_lexer": "ipython3",
   "version": "3.6.6"
  }
 },
 "nbformat": 4,
 "nbformat_minor": 2
}
